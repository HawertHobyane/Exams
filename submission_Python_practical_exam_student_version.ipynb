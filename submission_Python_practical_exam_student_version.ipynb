{
 "cells": [
  {
   "cell_type": "markdown",
   "metadata": {},
   "source": [
    "# Python Practical Exam\n",
    "\n",
    "© Explore Data Science Academy \n",
    "## Instructions to students\n",
    "* **DO NOT ADD / REMOVE CELLS FROM THIS NOTEBOOK, AND DO NOT CHANGE THE NAMES OF THE FUNCTIONS REQUIRED FOR TESTING.**\n",
    "  \n",
    "* This exam consists of six questions. Each of the questions is independent and do not require you to use functions built from previous questions. You can answer the questions in any order you like.\n",
    "\n",
    "* Ensure that the answers to your questions do not contain `syntax` or `indentation` errors. Questions with these errors will break the auto grader and will mark the _**entire exam**_ as incorrect. The auto grader will give you an error message if this is the case. Use this error message to correct the offending code or comment it out before resubmitting.\n",
    "* You will be able to make _**multiple submissions**_ to the auto grader. Use this ability to check if a question you have answered is correct before proceeding to the next question.\n",
    "* Only place code in sections that contain the `# Your code here.` comment.\n",
    "* We have provided some expected outputs for your code. Use these to determine if your code behaves as intended.\n",
    "* Some questions may have multiple requirements. It is possible to receive partial marks in these questions, so if you get stuck, try to submit to the auto grader before moving on."
   ]
  },
  {
   "cell_type": "code",
   "execution_count": 405,
   "metadata": {},
   "outputs": [],
   "source": [
    "import numpy as np\n",
    "import pandas as pd"
   ]
  },
  {
   "cell_type": "markdown",
   "metadata": {},
   "source": [
    "## Section 1: Numerical computation\n",
    "### Question 1\n",
    "We have a rope and want to cut the rope into four pieces to make a square. Given a rope of length $x$, what is the largest square (by area) that can be built given that a side of the square, $s$, can only be integer values? Units of measurement can be ignored. We are only interested in the numerical value of the solution.\n",
    "<p align=\"center\">\n",
    "<img src=\"https://raw.githubusercontent.com/Explore-AI/Pictures/master/python_fundamentals/python_exam/Largest_Square_Rope.jpg\"\n",
    "     alt=\"Largest Square\"\n",
    "     style=\"float: center; padding-bottom=0.5em\"\n",
    "     width=700px/>\n",
    "     <br>\n",
    "     <em>Figure 1: Area of the largest square enclosed by a rope. </em>\n",
    "</p>    \n",
    "\n",
    "**Function specifications**\n",
    "\n",
    "*Argument(s):*\n",
    "\n",
    "- **x** `(float)` $\\rightarrow$ the length of the rope.\n",
    "\n",
    "*Return:* \n",
    "\n",
    "- **area** `(int)` $\\rightarrow$ the area of the square formed by the rope.\n",
    "\n",
    "> 💡**HINT**💡\n",
    ">\n",
    ">The perimeter of the square cannot exceed the length of the rope."
   ]
  },
  {
   "cell_type": "code",
   "execution_count": 406,
   "metadata": {},
   "outputs": [],
   "source": [
    "### START FUNCTION\n",
    "def largest_square(x):\n",
    "    a = x/4\n",
    "    area=int(a)**2\n",
    "    return area\n",
    "\n",
    "### END FUNCTION"
   ]
  },
  {
   "cell_type": "code",
   "execution_count": 407,
   "metadata": {},
   "outputs": [
    {
     "data": {
      "text/plain": [
       "6561"
      ]
     },
     "execution_count": 407,
     "metadata": {},
     "output_type": "execute_result"
    }
   ],
   "source": [
    "largest_square(324\n",
    "              )"
   ]
  },
  {
   "cell_type": "markdown",
   "metadata": {},
   "source": [
    "_**Expected outputs:**_\n",
    "```python\n",
    "largest_square(12) == 9\n",
    "largest_square(41.5) == 100\n",
    "largest_square(324) == 6561\n",
    "```"
   ]
  },
  {
   "cell_type": "markdown",
   "metadata": {},
   "source": [
    "### Question 2\n",
    "Given a square matrix of size $n\\times n $ that only contains integers, compute the sum of the two diagonals. If the dimension of the square matrix is odd, make sure that you are not double-counting the value at the centre of the matrix.\n",
    "\n",
    "<p align=\"center\">\n",
    "<img src=\"https://raw.githubusercontent.com/Explore-AI/Pictures/master/python_fundamentals/python_exam/Sum_of_diagonals.jpg\"\n",
    "     alt=\"Sum of diagonals\"\n",
    "     style=\"float: center; padding-bottom=0.5em\"\n",
    "     width=50%/>\n",
    "     <br>\n",
    "     <em>Figure 2: Sum of diagonals.</em>\n",
    "</p>    \n",
    "\n",
    "\n",
    "**Function specifications**\n",
    "\n",
    "*Arguments:*\n",
    "- **matrix** `(numpy.ndarray)` $\\rightarrow$ input matrix to be used for computing the sum.\n",
    "\n",
    "*Return:*\n",
    "- **sum** `(int)` $\\rightarrow$  return the sum of the two diagonals.\n"
   ]
  },
  {
   "cell_type": "code",
   "execution_count": 408,
   "metadata": {},
   "outputs": [],
   "source": [
    "### START FUNCTION\n",
    "def sum_of_diagonals(matrix):\n",
    "    principal=0\n",
    "    n = len(matrix)\n",
    "    midpoint = 0\n",
    "    secondary = 0;\n",
    "    for i in range (0,n):\n",
    "        for j in range(0,n):\n",
    "            \n",
    "            if (i==j):\n",
    "                principal +=matrix[i][j]\n",
    "            if ((i+j)==(n-1)):\n",
    "                secondary+=matrix[i][j]\n",
    "                \n",
    "    if(n%2)!=0:\n",
    "        midpoint=round(n/2)-1\n",
    "        return (principal + secondary - matrix[midpoint][midpoint])\n",
    "    else:\n",
    "        return (principal+secondary)\n",
    "### END FUNCTION"
   ]
  },
  {
   "cell_type": "code",
   "execution_count": 423,
   "metadata": {},
   "outputs": [
    {
     "name": "stdout",
     "output_type": "stream",
     "text": [
      "[[1 4 8 0]\n",
      " [8 0 1 0]\n",
      " [7 0 2 0]\n",
      " [3 8 9 4]]\n"
     ]
    },
    {
     "data": {
      "text/plain": [
       "11"
      ]
     },
     "execution_count": 423,
     "metadata": {},
     "output_type": "execute_result"
    }
   ],
   "source": [
    "matrix =np.random.randint(10,size=(4,4))\n",
    "print(matrix)\n",
    "sum_of_diagonals(matrix)"
   ]
  },
  {
   "cell_type": "markdown",
   "metadata": {},
   "source": [
    "_**Expected outputs:**_\n",
    "```python\n",
    "matrix = np.array([[7, 0, 8],\n",
    "                   [6, 9, 1],\n",
    "                   [3, 8, 4]])\n",
    "sum_of_diagonals(matrix)==31\n",
    "\n",
    "\n",
    "matrix = np.array([[4, 1, 1, 1],\n",
    "                   [1, 3, 8, 0],\n",
    "                   [0, 8, 5, 7],\n",
    "                   [1, 6, 1, 3]])\n",
    "sum_of_diagonals(matrix)==33\n",
    "```"
   ]
  },
  {
   "cell_type": "markdown",
   "metadata": {},
   "source": [
    "## Section 2: Strings and lists\n",
    "\n",
    "### Question 3:\n",
    "\n",
    "Write a function that computes the ratio of vowels vs. consonants ($\\frac{vowels}{consonants}$) in a given sentence. The ratio should be given as a floating-point number rounded off to two decimal places. When writing your function, be sure to appropriately cater for the following punctuation marks:\n",
    "- apostrophes (')\n",
    "- quotations (\")\n",
    "- full stops (.)\n",
    "- commas (,)\n",
    "- exclamations (!)  \n",
    "- question marks (?)\n",
    "- colons (:)\n",
    "- semicolons (;)\n",
    "\n",
    "*Arguments:*\n",
    "- **sentence** `(string)` $\\rightarrow$ sentence required to compute the ratio.\n",
    "\n",
    "*Return:*\n",
    "- **ratio** `(float)` $\\rightarrow$ a ratio that describes the number of vowels to consonants: vowels/consonants.\n",
    "\n",
    "> 💡**HINT**💡\n",
    ">\n",
    ">Remember to cater for the white spaces that appear in your sentence."
   ]
  },
  {
   "cell_type": "code",
   "execution_count": 470,
   "metadata": {},
   "outputs": [],
   "source": [
    "### START FUNCTION\n",
    "def vowel_consonant_ratio(sentence):\n",
    "    vowels = \"AaEeIiOoUu\"\n",
    "    consonants = \"bBcCdDfFgGhHjJkKlLmMnNpPqQrRsStTvVwWxXyYzZ\"\n",
    "    intVowels = len([each for each in sentence if each in vowels])\n",
    "    intConsonants = len([each for each in sentence if each in consonants])\n",
    "    ratio = round(intVowels/intConsonants, 2)\n",
    "    return ratio\n",
    "### END FUNCTION"
   ]
  },
  {
   "cell_type": "code",
   "execution_count": 472,
   "metadata": {},
   "outputs": [
    {
     "data": {
      "text/plain": [
       "True"
      ]
     },
     "execution_count": 472,
     "metadata": {},
     "output_type": "execute_result"
    }
   ],
   "source": [
    "vowel_consonant_ratio(\"This is a random sentence!\")==0.62\n",
    "vowel_consonant_ratio(\"Thomas! Where have you been?\")==0.83"
   ]
  },
  {
   "cell_type": "markdown",
   "metadata": {},
   "source": [
    "***Expected outputs***\n",
    "\n",
    "```python\n",
    "vowel_consonant_ratio(\"This is a random sentence!\")==0.62\n",
    "vowel_consonant_ratio(\"Thomas! Where have you been?\")==0.83\n",
    "```"
   ]
  },
  {
   "cell_type": "markdown",
   "metadata": {},
   "source": [
    "### Question 4\n",
    "\n",
    "Write a function that will redact every third word in a sentence. Make use of the hashtag (`#`) symbol to redact the characters that make up the word, i.e. if the word is five characters long then a string of five hashtags should replace that word. However, this should not redact any of the following punctuation marks:\n",
    "- apostrophes (')\n",
    "- quotations (\")\n",
    "- full stops (.)\n",
    "- commas (,)\n",
    "- exclamations (!)  \n",
    "- question marks (?)\n",
    "- colons (:)\n",
    "- semicolons (;)\n",
    "\n",
    "*Arguments:*\n",
    "- **sentence** `(string)` $\\rightarrow$ sentence that needs to be redacted.\n",
    "\n",
    "*Return:*\n",
    "- **redacted sentence** `(string)`$\\rightarrow$ every third word should be redacted."
   ]
  },
  {
   "cell_type": "code",
   "execution_count": 473,
   "metadata": {},
   "outputs": [],
   "source": [
    "### START FUNCTION\n",
    "def redact_words(sentence):\n",
    "    \n",
    "    redacted_sentence=''\n",
    "    words=sentence.split(' ')\n",
    "    i = 1\n",
    "    for word in words:\n",
    "        if i%3==0:\n",
    "            redact=''\n",
    "            for char in word:\n",
    "                if char in ' \\' \" . , ! ? ; : ' :\n",
    "                    redact=redact+char\n",
    "                else:\n",
    "                    redact=redact+'#'\n",
    "            redacted_sentence=redacted_sentence+ ' ' +redact\n",
    "            \n",
    "        else:\n",
    "            redacted_sentence=redacted_sentence+' '+ word\n",
    "        i += 1\n",
    "    redacted_sentence=redacted_sentence.strip()\n",
    "    return redacted_sentence\n",
    "            \n",
    "        \n",
    "    \n",
    "   \n",
    "        \n",
    "### END FUNCTION   "
   ]
  },
  {
   "cell_type": "code",
   "execution_count": 474,
   "metadata": {},
   "outputs": [
    {
     "data": {
      "text/plain": [
       "'My dear ########, do you ########## the nature ## the given ########?'"
      ]
     },
     "execution_count": 474,
     "metadata": {},
     "output_type": "execute_result"
    }
   ],
   "source": [
    "sentence = \"My dear Explorer, do you understand the nature of the given question?\"\n",
    "redact_words(sentence)"
   ]
  },
  {
   "cell_type": "markdown",
   "metadata": {},
   "source": [
    "***Expected outputs***\n",
    "\n",
    "```python\n",
    "sentence = \"My dear Explorer, do you understand the nature of the given question?\"\n",
    "redact_words(sentence) ==  'My dear ########, do you ########## the nature ## the given ########?'\n",
    "\n",
    "sentence = \"Explorer, this is why you shouldn't come to a test unprepared.\"\n",
    "redact_words(sentence)==\"Explorer, this ## why you #######'# come to # test unprepared.\"\n",
    "\n",
    "```"
   ]
  },
  {
   "cell_type": "markdown",
   "metadata": {},
   "source": [
    "### Question 5\n",
    "\n",
    "Given an alphanumeric list, separate it into three different lists stored in a dictionary:\n",
    "\n",
    "- The first list should only contain lowercase letters.\n",
    "- The second list should only contain uppercase letters.\n",
    "- The third list should only contain numbers.\n",
    "\n",
    "Each list stored in the dictionary should be stored in ascending order. Use the following naming convention when creating your lists:\n",
    "- numbers\n",
    "- uppercase\n",
    "- lowercase\n",
    "\n",
    "Make sure that you adhere to the above instruction, as the name of your lists will be used to mark your function.\n",
    "\n",
    "*Arguments:*\n",
    "- **character_list:** `(list)` $\\rightarrow$ list of alphanumeric characters.\n",
    "\n",
    "*Return:*\n",
    "- **dictionary** `(dict)` $\\rightarrow$  dictionary containing all three lists."
   ]
  },
  {
   "cell_type": "code",
   "execution_count": 414,
   "metadata": {},
   "outputs": [],
   "source": [
    "### START FUNCTION\n",
    "def create_dictionary(character_list):\n",
    "    \n",
    "    new_dct={character_list[i]: character_list[i+1] for i in range(0,len(character_list), 2)}\n",
    "    \n",
    "    return new_dct\n",
    "\n",
    "    \n",
    "    # Your code here.\n",
    "    return dictionary.keys()\n",
    "### END FUNCTION"
   ]
  },
  {
   "cell_type": "code",
   "execution_count": 415,
   "metadata": {},
   "outputs": [
    {
     "ename": "IndexError",
     "evalue": "list index out of range",
     "output_type": "error",
     "traceback": [
      "\u001b[1;31m---------------------------------------------------------------------------\u001b[0m",
      "\u001b[1;31mIndexError\u001b[0m                                Traceback (most recent call last)",
      "\u001b[1;32m~\\AppData\\Local\\Temp/ipykernel_11216/3258173238.py\u001b[0m in \u001b[0;36m<module>\u001b[1;34m\u001b[0m\n\u001b[0;32m      1\u001b[0m \u001b[0mlst\u001b[0m \u001b[1;33m=\u001b[0m \u001b[1;33m[\u001b[0m\u001b[1;36m2\u001b[0m\u001b[1;33m,\u001b[0m\u001b[1;34m'j'\u001b[0m\u001b[1;33m,\u001b[0m\u001b[1;34m'K'\u001b[0m\u001b[1;33m,\u001b[0m\u001b[1;34m'o'\u001b[0m\u001b[1;33m,\u001b[0m\u001b[1;36m6\u001b[0m\u001b[1;33m,\u001b[0m\u001b[1;34m'x'\u001b[0m\u001b[1;33m,\u001b[0m\u001b[1;36m5\u001b[0m\u001b[1;33m,\u001b[0m\u001b[1;34m'A'\u001b[0m\u001b[1;33m,\u001b[0m\u001b[1;36m3.2\u001b[0m\u001b[1;33m]\u001b[0m\u001b[1;33m\u001b[0m\u001b[1;33m\u001b[0m\u001b[0m\n\u001b[1;32m----> 2\u001b[1;33m \u001b[0mcreate_dictionary\u001b[0m\u001b[1;33m(\u001b[0m\u001b[0mlst\u001b[0m\u001b[1;33m)\u001b[0m\u001b[1;33m\u001b[0m\u001b[1;33m\u001b[0m\u001b[0m\n\u001b[0m",
      "\u001b[1;32m~\\AppData\\Local\\Temp/ipykernel_11216/2236420134.py\u001b[0m in \u001b[0;36mcreate_dictionary\u001b[1;34m(character_list)\u001b[0m\n\u001b[0;32m      2\u001b[0m \u001b[1;32mdef\u001b[0m \u001b[0mcreate_dictionary\u001b[0m\u001b[1;33m(\u001b[0m\u001b[0mcharacter_list\u001b[0m\u001b[1;33m)\u001b[0m\u001b[1;33m:\u001b[0m\u001b[1;33m\u001b[0m\u001b[1;33m\u001b[0m\u001b[0m\n\u001b[0;32m      3\u001b[0m \u001b[1;33m\u001b[0m\u001b[0m\n\u001b[1;32m----> 4\u001b[1;33m     \u001b[0mnew_dct\u001b[0m\u001b[1;33m=\u001b[0m\u001b[1;33m{\u001b[0m\u001b[0mcharacter_list\u001b[0m\u001b[1;33m[\u001b[0m\u001b[0mi\u001b[0m\u001b[1;33m]\u001b[0m\u001b[1;33m:\u001b[0m \u001b[0mcharacter_list\u001b[0m\u001b[1;33m[\u001b[0m\u001b[0mi\u001b[0m\u001b[1;33m+\u001b[0m\u001b[1;36m1\u001b[0m\u001b[1;33m]\u001b[0m \u001b[1;32mfor\u001b[0m \u001b[0mi\u001b[0m \u001b[1;32min\u001b[0m \u001b[0mrange\u001b[0m\u001b[1;33m(\u001b[0m\u001b[1;36m0\u001b[0m\u001b[1;33m,\u001b[0m\u001b[0mlen\u001b[0m\u001b[1;33m(\u001b[0m\u001b[0mcharacter_list\u001b[0m\u001b[1;33m)\u001b[0m\u001b[1;33m,\u001b[0m \u001b[1;36m2\u001b[0m\u001b[1;33m)\u001b[0m\u001b[1;33m}\u001b[0m\u001b[1;33m\u001b[0m\u001b[1;33m\u001b[0m\u001b[0m\n\u001b[0m\u001b[0;32m      5\u001b[0m \u001b[1;33m\u001b[0m\u001b[0m\n\u001b[0;32m      6\u001b[0m     \u001b[1;32mreturn\u001b[0m \u001b[0mnew_dct\u001b[0m\u001b[1;33m\u001b[0m\u001b[1;33m\u001b[0m\u001b[0m\n",
      "\u001b[1;32m~\\AppData\\Local\\Temp/ipykernel_11216/2236420134.py\u001b[0m in \u001b[0;36m<dictcomp>\u001b[1;34m(.0)\u001b[0m\n\u001b[0;32m      2\u001b[0m \u001b[1;32mdef\u001b[0m \u001b[0mcreate_dictionary\u001b[0m\u001b[1;33m(\u001b[0m\u001b[0mcharacter_list\u001b[0m\u001b[1;33m)\u001b[0m\u001b[1;33m:\u001b[0m\u001b[1;33m\u001b[0m\u001b[1;33m\u001b[0m\u001b[0m\n\u001b[0;32m      3\u001b[0m \u001b[1;33m\u001b[0m\u001b[0m\n\u001b[1;32m----> 4\u001b[1;33m     \u001b[0mnew_dct\u001b[0m\u001b[1;33m=\u001b[0m\u001b[1;33m{\u001b[0m\u001b[0mcharacter_list\u001b[0m\u001b[1;33m[\u001b[0m\u001b[0mi\u001b[0m\u001b[1;33m]\u001b[0m\u001b[1;33m:\u001b[0m \u001b[0mcharacter_list\u001b[0m\u001b[1;33m[\u001b[0m\u001b[0mi\u001b[0m\u001b[1;33m+\u001b[0m\u001b[1;36m1\u001b[0m\u001b[1;33m]\u001b[0m \u001b[1;32mfor\u001b[0m \u001b[0mi\u001b[0m \u001b[1;32min\u001b[0m \u001b[0mrange\u001b[0m\u001b[1;33m(\u001b[0m\u001b[1;36m0\u001b[0m\u001b[1;33m,\u001b[0m\u001b[0mlen\u001b[0m\u001b[1;33m(\u001b[0m\u001b[0mcharacter_list\u001b[0m\u001b[1;33m)\u001b[0m\u001b[1;33m,\u001b[0m \u001b[1;36m2\u001b[0m\u001b[1;33m)\u001b[0m\u001b[1;33m}\u001b[0m\u001b[1;33m\u001b[0m\u001b[1;33m\u001b[0m\u001b[0m\n\u001b[0m\u001b[0;32m      5\u001b[0m \u001b[1;33m\u001b[0m\u001b[0m\n\u001b[0;32m      6\u001b[0m     \u001b[1;32mreturn\u001b[0m \u001b[0mnew_dct\u001b[0m\u001b[1;33m\u001b[0m\u001b[1;33m\u001b[0m\u001b[0m\n",
      "\u001b[1;31mIndexError\u001b[0m: list index out of range"
     ]
    }
   ],
   "source": [
    "lst = [2,'j','K','o',6,'x',5,'A',3.2]\n",
    "create_dictionary(lst)"
   ]
  },
  {
   "cell_type": "markdown",
   "metadata": {},
   "source": [
    "***Expected outputs***\n",
    "\n",
    "```python\n",
    "lst = [2,'j','K','o',6,'x',5,'A',3.2]\n",
    "create_dictionary(lst)\n",
    "\n",
    "{'numbers': [2, 3.2, 5, 6],\n",
    " 'uppercase': ['A', 'K'],\n",
    " 'lowercase': ['j', 'o', 'x']}\n",
    " ```\n",
    "\n"
   ]
  },
  {
   "cell_type": "markdown",
   "metadata": {},
   "source": [
    "## Section 3: DataFrames\n",
    "You will need the below DataFrames to answer the following questions.\n",
    "\n",
    "_**DO NOT ALTER THESE DATAFRAMES, AS DOING SO CAN LEAD TO A NEGATIVE MARK.**_\n",
    "\n"
   ]
  },
  {
   "cell_type": "code",
   "execution_count": 416,
   "metadata": {},
   "outputs": [],
   "source": [
    "country_map_df = pd.read_csv('https://raw.githubusercontent.com/Explore-AI/Public-Data/master/AnalyseProject/country_code_map.csv', index_col='Country Code')\n",
    "population_df = pd.read_csv('https://raw.githubusercontent.com/Explore-AI/Public-Data/master/AnalyseProject/world_population.csv', index_col='Country Code')\n",
    "meta_df = pd.read_csv('https://raw.githubusercontent.com/Explore-AI/Public-Data/master/AnalyseProject/metadata.csv', index_col='Country Code')"
   ]
  },
  {
   "cell_type": "markdown",
   "metadata": {},
   "source": [
    "_**DataFrame specifications:**_\n",
    "\n",
    "The DataFrames provide information about the population of the world for various years. Some things to note:\n",
    "* All DataFrames have a `Country Code` as an index, which is a three-letter code referring to a country.\n",
    "* The `country_map_df` data maps the `Country Code` to a `Country Name`.\n",
    "* The `population_df` data contains information on the population for a given country between the years 1960 and 2017.\n",
    "* The `meta_df` data contains meta-information about each country, including its geographical region, its income group, and a comment on the country as a whole."
   ]
  },
  {
   "cell_type": "markdown",
   "metadata": {},
   "source": [
    "### Question 6\n",
    "\n",
    "Write a function that will return a list of countries for a specified region and income group. If the specified region and income group do not return a country, return `None` as the value.\n",
    "\n",
    "\n",
    "**Function specifications**\n",
    "\n",
    "*Argument(s):*\n",
    "- **region** `(string)` $\\rightarrow$ the region you want to query.\n",
    "- **income_group** `(string)` $\\rightarrow$ the income group you want to query.\n",
    "\n",
    "\n",
    "*Return:*\n",
    "- **countries** `(list)` $\\rightarrow$ return a list of countries that match the search criteria or **`None`** if no countries are found."
   ]
  },
  {
   "cell_type": "code",
   "execution_count": 419,
   "metadata": {},
   "outputs": [],
   "source": [
    "### START FUNCTION\n",
    "def find_countries_by_region_and_income(region,income_group):\n",
    "\n",
    "    data = country_map_df.join(meta_df, on='Country Code')\n",
    "    data = data[(data[ 'Region'] == str(region)) & (data['Income Group']==str(income_group))]\n",
    "\n",
    "    if data.shape[0]==0:\n",
    "\n",
    "        countries= None\n",
    "\n",
    "    else:\n",
    "\n",
    "        countries=list(data ['Country Name'].values)\n",
    "\n",
    "    return countries\n",
    "\n",
    "\n",
    "### END FUNCTION"
   ]
  },
  {
   "cell_type": "code",
   "execution_count": 420,
   "metadata": {},
   "outputs": [
    {
     "data": {
      "text/plain": [
       "['Botswana',\n",
       " 'Gabon',\n",
       " 'Equatorial Guinea',\n",
       " 'Mauritius',\n",
       " 'Namibia',\n",
       " 'South Africa']"
      ]
     },
     "execution_count": 420,
     "metadata": {},
     "output_type": "execute_result"
    }
   ],
   "source": [
    "countries = find_countries_by_region_and_income('Sub-Saharan Africa','Upper middle income')\n",
    "countries"
   ]
  },
  {
   "cell_type": "markdown",
   "metadata": {},
   "source": [
    "***Expected output***\n",
    "\n",
    "```python\n",
    "find_countries_by_region_and_income('South Asia','High income')==None\n",
    "find_countries_by_region_and_income('Europe & Central Asia','Low income')==['Tajikistan']\n",
    "find_countries_by_region_and_income('Sub-Saharan Africa','Upper middle income')==['Botswana','Gabon','Equatorial Guinea','Mauritius','Namibia','South Africa']\n",
    "```"
   ]
  },
  {
   "cell_type": "code",
   "execution_count": null,
   "metadata": {},
   "outputs": [],
   "source": []
  },
  {
   "cell_type": "code",
   "execution_count": null,
   "metadata": {},
   "outputs": [],
   "source": []
  },
  {
   "cell_type": "code",
   "execution_count": null,
   "metadata": {},
   "outputs": [],
   "source": []
  }
 ],
 "metadata": {
  "interpreter": {
   "hash": "6b5ebbc2c6bde2831bc6c0426f75aca8137ccfc69d329557556ed73faee126ae"
  },
  "kernelspec": {
   "display_name": "Python 3 (ipykernel)",
   "language": "python",
   "name": "python3"
  },
  "language_info": {
   "codemirror_mode": {
    "name": "ipython",
    "version": 3
   },
   "file_extension": ".py",
   "mimetype": "text/x-python",
   "name": "python",
   "nbconvert_exporter": "python",
   "pygments_lexer": "ipython3",
   "version": "3.9.7"
  }
 },
 "nbformat": 4,
 "nbformat_minor": 4
}
